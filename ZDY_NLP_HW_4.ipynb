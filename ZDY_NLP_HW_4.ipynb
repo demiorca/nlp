{
 "cells": [
  {
   "cell_type": "code",
   "execution_count": 1,
   "id": "39828a1e",
   "metadata": {},
   "outputs": [],
   "source": [
    "import pandas as pd\n",
    "import numpy as np\n",
    "import matplotlib.pyplot as plt\n",
    "\n",
    "import re\n",
    "import nltk\n",
    "from nltk.corpus import stopwords\n",
    "import pymorphy2\n",
    "from tqdm import tqdm\n",
    "\n",
    "from gensim.models import LdaModel, CoherenceModel\n",
    "from gensim import corpora\n",
    "\n",
    "import warnings \n",
    "warnings.filterwarnings(\"ignore\", category=DeprecationWarning)"
   ]
  },
  {
   "cell_type": "code",
   "execution_count": 2,
   "id": "a42abb4b",
   "metadata": {},
   "outputs": [
    {
     "name": "stderr",
     "output_type": "stream",
     "text": [
      "[nltk_data] Downloading package stopwords to\n",
      "[nltk_data]     C:\\Users\\user\\AppData\\Roaming\\nltk_data...\n",
      "[nltk_data]   Package stopwords is already up-to-date!\n"
     ]
    },
    {
     "data": {
      "text/plain": [
       "True"
      ]
     },
     "execution_count": 2,
     "metadata": {},
     "output_type": "execute_result"
    }
   ],
   "source": [
    "nltk.download('stopwords')"
   ]
  },
  {
   "cell_type": "code",
   "execution_count": 3,
   "id": "0a61efa1",
   "metadata": {},
   "outputs": [],
   "source": [
    "positive = pd.read_csv('positive.csv', sep=';', usecols=[3], names=['text'])\n",
    "positive['label'] = ['positive'] * len(positive)\n",
    "\n",
    "negative = pd.read_csv('negative.csv', sep=';', usecols=[3], names=['text'])\n",
    "negative['label'] = ['negative'] * len(negative)\n",
    "\n",
    "df = pd.concat([positive, negative])"
   ]
  },
  {
   "cell_type": "code",
   "execution_count": 4,
   "id": "f56c401a",
   "metadata": {},
   "outputs": [
    {
     "data": {
      "text/html": [
       "<div>\n",
       "<style scoped>\n",
       "    .dataframe tbody tr th:only-of-type {\n",
       "        vertical-align: middle;\n",
       "    }\n",
       "\n",
       "    .dataframe tbody tr th {\n",
       "        vertical-align: top;\n",
       "    }\n",
       "\n",
       "    .dataframe thead th {\n",
       "        text-align: right;\n",
       "    }\n",
       "</style>\n",
       "<table border=\"1\" class=\"dataframe\">\n",
       "  <thead>\n",
       "    <tr style=\"text-align: right;\">\n",
       "      <th></th>\n",
       "      <th>text</th>\n",
       "      <th>label</th>\n",
       "    </tr>\n",
       "  </thead>\n",
       "  <tbody>\n",
       "    <tr>\n",
       "      <th>0</th>\n",
       "      <td>@first_timee хоть я и школота, но поверь, у на...</td>\n",
       "      <td>positive</td>\n",
       "    </tr>\n",
       "    <tr>\n",
       "      <th>1</th>\n",
       "      <td>Да, все-таки он немного похож на него. Но мой ...</td>\n",
       "      <td>positive</td>\n",
       "    </tr>\n",
       "    <tr>\n",
       "      <th>2</th>\n",
       "      <td>RT @KatiaCheh: Ну ты идиотка) я испугалась за ...</td>\n",
       "      <td>positive</td>\n",
       "    </tr>\n",
       "    <tr>\n",
       "      <th>3</th>\n",
       "      <td>RT @digger2912: \"Кто то в углу сидит и погибае...</td>\n",
       "      <td>positive</td>\n",
       "    </tr>\n",
       "  </tbody>\n",
       "</table>\n",
       "</div>"
      ],
      "text/plain": [
       "                                                text     label\n",
       "0  @first_timee хоть я и школота, но поверь, у на...  positive\n",
       "1  Да, все-таки он немного похож на него. Но мой ...  positive\n",
       "2  RT @KatiaCheh: Ну ты идиотка) я испугалась за ...  positive\n",
       "3  RT @digger2912: \"Кто то в углу сидит и погибае...  positive"
      ]
     },
     "execution_count": 4,
     "metadata": {},
     "output_type": "execute_result"
    }
   ],
   "source": [
    "df.head(4)"
   ]
  },
  {
   "cell_type": "code",
   "execution_count": 5,
   "id": "c9c07e6c",
   "metadata": {},
   "outputs": [],
   "source": [
    "morph = pymorphy2.MorphAnalyzer()\n",
    "words_regex = re.compile('\\w+')\n",
    "stopwords_list = stopwords.words('russian')"
   ]
  },
  {
   "cell_type": "code",
   "execution_count": 6,
   "id": "987b7779",
   "metadata": {},
   "outputs": [],
   "source": [
    "def find_words(text, regex=words_regex):\n",
    "    tokens = regex.findall(text.lower())\n",
    "    \n",
    "    return [w for w in tokens if w.isalpha() and len(w) >= 3]\n",
    "\n",
    "def lemmatize(words, lemmer=morph, stopwords=stopwords_list):\n",
    "    lemmas = [lemmer.parse(w)[0].normal_form for w in words]\n",
    "    \n",
    "    return [w for w in lemmas if not w in stopwords and w.isalpha()]\n",
    "\n",
    "def preprocess(text):\n",
    "    return (lemmatize(find_words(text)))"
   ]
  },
  {
   "cell_type": "markdown",
   "id": "89a875dd",
   "metadata": {},
   "source": [
    "Посмотрим на первый твит, после чего применим функцию для лемматизации:"
   ]
  },
  {
   "cell_type": "code",
   "execution_count": 7,
   "id": "02de8aa6",
   "metadata": {},
   "outputs": [
    {
     "data": {
      "text/plain": [
       "'@first_timee хоть я и школота, но поверь, у нас то же самое :D общество профилирующий предмет типа)'"
      ]
     },
     "execution_count": 7,
     "metadata": {},
     "output_type": "execute_result"
    }
   ],
   "source": [
    "df.text.iloc[0]"
   ]
  },
  {
   "cell_type": "code",
   "execution_count": 8,
   "id": "12cbfc01",
   "metadata": {},
   "outputs": [
    {
     "name": "stdout",
     "output_type": "stream",
     "text": [
      "['школотый', 'поверь', 'самый', 'общество', 'профилировать', 'предмет', 'тип']\n"
     ]
    }
   ],
   "source": [
    "print(preprocess(df.text.iloc[0]))"
   ]
  },
  {
   "cell_type": "markdown",
   "id": "0b94ea92",
   "metadata": {},
   "source": [
    "Применим ко всему датасету:"
   ]
  },
  {
   "cell_type": "code",
   "execution_count": 9,
   "id": "29cbdd63",
   "metadata": {},
   "outputs": [],
   "source": [
    "preprocessed_text = list(map(preprocess, df['text']))"
   ]
  },
  {
   "cell_type": "code",
   "execution_count": 10,
   "id": "a0add31e",
   "metadata": {},
   "outputs": [
    {
     "data": {
      "text/html": [
       "<div>\n",
       "<style scoped>\n",
       "    .dataframe tbody tr th:only-of-type {\n",
       "        vertical-align: middle;\n",
       "    }\n",
       "\n",
       "    .dataframe tbody tr th {\n",
       "        vertical-align: top;\n",
       "    }\n",
       "\n",
       "    .dataframe thead th {\n",
       "        text-align: right;\n",
       "    }\n",
       "</style>\n",
       "<table border=\"1\" class=\"dataframe\">\n",
       "  <thead>\n",
       "    <tr style=\"text-align: right;\">\n",
       "      <th></th>\n",
       "      <th>text</th>\n",
       "      <th>label</th>\n",
       "    </tr>\n",
       "  </thead>\n",
       "  <tbody>\n",
       "    <tr>\n",
       "      <th>6677</th>\n",
       "      <td>[двигать, вокзал, менее, час, поезд, хотеться,...</td>\n",
       "      <td>negative</td>\n",
       "    </tr>\n",
       "    <tr>\n",
       "      <th>86433</th>\n",
       "      <td>[обида, сказать, знать, почему]</td>\n",
       "      <td>positive</td>\n",
       "    </tr>\n",
       "    <tr>\n",
       "      <th>25513</th>\n",
       "      <td>[дибил, критично, тупой, ответ]</td>\n",
       "      <td>negative</td>\n",
       "    </tr>\n",
       "    <tr>\n",
       "      <th>82610</th>\n",
       "      <td>[заболеть, ждать, дом, лечить]</td>\n",
       "      <td>negative</td>\n",
       "    </tr>\n",
       "  </tbody>\n",
       "</table>\n",
       "</div>"
      ],
      "text/plain": [
       "                                                    text     label\n",
       "6677   [двигать, вокзал, менее, час, поезд, хотеться,...  negative\n",
       "86433                    [обида, сказать, знать, почему]  positive\n",
       "25513                    [дибил, критично, тупой, ответ]  negative\n",
       "82610                     [заболеть, ждать, дом, лечить]  negative"
      ]
     },
     "execution_count": 10,
     "metadata": {},
     "output_type": "execute_result"
    }
   ],
   "source": [
    "df['text'] = preprocessed_text\n",
    "df.sample(4)"
   ]
  },
  {
   "cell_type": "markdown",
   "id": "f30bf3cc",
   "metadata": {},
   "source": [
    "Создадим словарь и векторизуем документы:"
   ]
  },
  {
   "cell_type": "code",
   "execution_count": 11,
   "id": "bb89b181",
   "metadata": {},
   "outputs": [],
   "source": [
    "dictionary = corpora.Dictionary(df['text'])\n",
    "\n",
    "dictionary.filter_extremes(no_below=10, no_above=0.9, keep_n=None)\n",
    "dictionary.save('tweet.dict')"
   ]
  },
  {
   "cell_type": "code",
   "execution_count": 12,
   "id": "5f662971",
   "metadata": {},
   "outputs": [],
   "source": [
    "corpus = [dictionary.doc2bow(text) for text in df['text']]\n",
    "\n",
    "corpora.MmCorpus.serialize('tweet.model', corpus)"
   ]
  },
  {
   "cell_type": "markdown",
   "id": "b6f4fc1b",
   "metadata": {},
   "source": [
    "Обучим модель (при помощи LDA):"
   ]
  },
  {
   "cell_type": "code",
   "execution_count": 13,
   "id": "00403e06",
   "metadata": {},
   "outputs": [
    {
     "name": "stdout",
     "output_type": "stream",
     "text": [
      "CPU times: total: 3min 37s\n",
      "Wall time: 3min 37s\n"
     ]
    }
   ],
   "source": [
    "%%time\n",
    "\n",
    "lda = LdaModel(corpus, id2word=dictionary, num_topics=20, chunksize=50, update_every=1, passes=2)"
   ]
  },
  {
   "cell_type": "code",
   "execution_count": 14,
   "id": "0dd38ffc",
   "metadata": {},
   "outputs": [
    {
     "data": {
      "text/plain": [
       "[(8,\n",
       "  '0.407*\"весь\" + 0.179*\"писать\" + 0.145*\"сидеть\" + 0.134*\"хотеться\" + 0.039*\"взять\" + 0.029*\"страшно\" + 0.024*\"ахах\" + 0.017*\"всякий\" + 0.000*\"спать\" + 0.000*\"дом\"'),\n",
       " (18,\n",
       "  '0.223*\"который\" + 0.212*\"время\" + 0.135*\"работа\" + 0.111*\"пиздец\" + 0.060*\"прям\" + 0.056*\"история\" + 0.044*\"русский\" + 0.035*\"хуйня\" + 0.035*\"свет\" + 0.022*\"зря\"'),\n",
       " (6,\n",
       "  '0.306*\"человек\" + 0.211*\"хороший\" + 0.095*\"нравиться\" + 0.093*\"фильм\" + 0.057*\"получаться\" + 0.053*\"сериал\" + 0.052*\"книга\" + 0.047*\"слушать\" + 0.021*\"кофе\" + 0.015*\"мужчина\"'),\n",
       " (15,\n",
       "  '0.122*\"поддержка\" + 0.000*\"твой\" + 0.000*\"хватать\" + 0.000*\"скучать\" + 0.000*\"выступать\" + 0.000*\"читать\" + 0.000*\"комментарий\" + 0.000*\"возле\" + 0.000*\"судья\" + 0.000*\"глаз\"'),\n",
       " (17,\n",
       "  '0.549*\"очень\" + 0.170*\"неделя\" + 0.101*\"работать\" + 0.092*\"спасибо\" + 0.026*\"прекрасный\" + 0.021*\"главное\" + 0.000*\"холодно\" + 0.000*\"скучать\" + 0.000*\"плохо\" + 0.000*\"жаль\"'),\n",
       " (16,\n",
       "  '0.458*\"мочь\" + 0.392*\"сегодня\" + 0.056*\"столько\" + 0.046*\"место\" + 0.014*\"повод\" + 0.008*\"выпить\" + 0.000*\"пойти\" + 0.000*\"спать\" + 0.000*\"вообще\" + 0.000*\"уснуть\"'),\n",
       " (3,\n",
       "  '0.000*\"снегурочка\" + 0.000*\"фикбук\" + 0.000*\"обидеть\" + 0.000*\"побриться\" + 0.000*\"лавочка\" + 0.000*\"офигительный\" + 0.000*\"одинаково\" + 0.000*\"строй\" + 0.000*\"смелый\" + 0.000*\"mashushnik\"'),\n",
       " (0,\n",
       "  '0.000*\"снегурочка\" + 0.000*\"фикбук\" + 0.000*\"обидеть\" + 0.000*\"побриться\" + 0.000*\"лавочка\" + 0.000*\"офигительный\" + 0.000*\"одинаково\" + 0.000*\"строй\" + 0.000*\"смелый\" + 0.000*\"mashushnik\"'),\n",
       " (7,\n",
       "  '0.532*\"это\" + 0.396*\"хотеть\" + 0.058*\"друг\" + 0.000*\"спать\" + 0.000*\"вообще\" + 0.000*\"ужасно\" + 0.000*\"твой\" + 0.000*\"делать\" + 0.000*\"понимать\" + 0.000*\"болеть\"'),\n",
       " (14,\n",
       "  '0.322*\"завтра\" + 0.204*\"идти\" + 0.185*\"школа\" + 0.151*\"самый\" + 0.095*\"первый\" + 0.014*\"вечером\" + 0.004*\"глянуть\" + 0.000*\"спать\" + 0.000*\"урок\" + 0.000*\"вставать\"')]"
      ]
     },
     "execution_count": 14,
     "metadata": {},
     "output_type": "execute_result"
    }
   ],
   "source": [
    "lda.show_topics(num_topics=10, num_words=10, formatted=True)"
   ]
  },
  {
   "cell_type": "markdown",
   "id": "9e512e35",
   "metadata": {},
   "source": [
    "Посмотрим на метрики (перплексия, средняя когерентность):"
   ]
  },
  {
   "cell_type": "code",
   "execution_count": 15,
   "id": "8d4480eb",
   "metadata": {},
   "outputs": [
    {
     "name": "stdout",
     "output_type": "stream",
     "text": [
      "-26.26362821218889\n"
     ]
    }
   ],
   "source": [
    "print(lda.log_perplexity(corpus))"
   ]
  },
  {
   "cell_type": "code",
   "execution_count": 16,
   "id": "3c263711",
   "metadata": {},
   "outputs": [
    {
     "name": "stdout",
     "output_type": "stream",
     "text": [
      "Персплексия: 3.9251042193629e-12\n"
     ]
    }
   ],
   "source": [
    "print('Персплексия:', np.exp(lda.log_perplexity(corpus)))"
   ]
  },
  {
   "cell_type": "code",
   "execution_count": 17,
   "id": "90da7596",
   "metadata": {},
   "outputs": [
    {
     "name": "stdout",
     "output_type": "stream",
     "text": [
      "Средняя когерентность: 0.3301364960384789\n"
     ]
    }
   ],
   "source": [
    "coherence_model_lda = CoherenceModel(model=lda, texts=df['text'], dictionary=dictionary, coherence='c_v')\n",
    "coherence_lda = coherence_model_lda.get_coherence()\n",
    "\n",
    "print('Средняя когерентность:', coherence_lda)"
   ]
  },
  {
   "cell_type": "markdown",
   "id": "3c000e0f",
   "metadata": {},
   "source": [
    "Посмотрим визуально на несколько тематик:"
   ]
  },
  {
   "cell_type": "code",
   "execution_count": 18,
   "id": "62c6b54f",
   "metadata": {},
   "outputs": [],
   "source": [
    "def get_topics_words(model, n_topics):\n",
    "    \n",
    "    x = model.show_topics(num_topics=n_topics, num_words=10, formatted=False)\n",
    "    topics_words = [(tp[0], [wd[0] for wd in tp[1]]) for tp in x]\n",
    "\n",
    "    for topic, words in topics_words:\n",
    "        print(f\"topic_{topic}: \" + \" \".join(words))"
   ]
  },
  {
   "cell_type": "code",
   "execution_count": 19,
   "id": "e4a42a85",
   "metadata": {},
   "outputs": [
    {
     "name": "stdout",
     "output_type": "stream",
     "text": [
      "topic_5: думать найти серия поэтому группа качать искать the пойти нормальный\n",
      "topic_15: поддержка твой хватать скучать выступать читать комментарий возле судья глаз\n",
      "topic_13: блин посмотреть amp фотка значит ощущение часть курить поздний чёрный\n",
      "topic_8: весь писать сидеть хотеться взять страшно ахах всякий спать дом\n"
     ]
    }
   ],
   "source": [
    "get_topics_words(model=lda, n_topics=4)"
   ]
  },
  {
   "cell_type": "markdown",
   "id": "b9104e40",
   "metadata": {},
   "source": [
    "Запустим процесс выявления нужного количества тематик для наибольшего значения метрики (по средней когерентности):"
   ]
  },
  {
   "cell_type": "code",
   "execution_count": 20,
   "id": "98b9b608",
   "metadata": {},
   "outputs": [
    {
     "name": "stderr",
     "output_type": "stream",
     "text": [
      "100%|██████████████████████████████████████████████████████████████████████████████████| 10/10 [11:05<00:00, 66.52s/it]\n"
     ]
    }
   ],
   "source": [
    "ns = (3, 5, 10, 15, 20, 25, 30, 40, 50, 100)\n",
    "scores = []\n",
    "\n",
    "for n_topics in tqdm(ns):\n",
    "    lda = LdaModel(corpus, num_topics=n_topics, id2word=dictionary, passes=2, random_state=41)\n",
    "    \n",
    "    score = CoherenceModel(model=lda, texts=df['text'], dictionary=dictionary).get_coherence()\n",
    "    scores.append(score)"
   ]
  },
  {
   "cell_type": "code",
   "execution_count": 21,
   "id": "c0c80aad",
   "metadata": {},
   "outputs": [
    {
     "data": {
      "image/png": "[encoded data removed]",
      "text/plain": [
       "<Figure size 640x480 with 1 Axes>"
      ]
     },
     "metadata": {},
     "output_type": "display_data"
    }
   ],
   "source": [
    "plt.plot(ns, scores)\n",
    "plt.title('Средняя когерентность при различном числе тематик')\n",
    "plt.xlabel('Число тематик')\n",
    "plt.ylabel('Средняя когерентность')\n",
    "plt.grid()\n",
    "plt.show()"
   ]
  },
  {
   "cell_type": "markdown",
   "id": "12ad43d4",
   "metadata": {},
   "source": [
    "После стремительного падения у 20 тематик, функция начинает линейно расти, а самое высокое значение средней когерентности наблюдается у 100 тематик. Выберем именно такое количество, обучим модель и посмотрим, что получилось:"
   ]
  },
  {
   "cell_type": "code",
   "execution_count": 22,
   "id": "87770736",
   "metadata": {},
   "outputs": [],
   "source": [
    "final_model = LdaModel(corpus, num_topics=100, id2word=dictionary, passes=2, random_state=41)"
   ]
  },
  {
   "cell_type": "code",
   "execution_count": 23,
   "id": "f12b2541",
   "metadata": {},
   "outputs": [
    {
     "name": "stdout",
     "output_type": "stream",
     "text": [
      "topic_0: девушка тви появиться знакомый счастливый редко айфон пожалеть это глава\n",
      "topic_1: пройти получаться черта хреновый всё это странно попробовать стараться привыкнуть\n",
      "topic_2: напомнить обидеться заставить настя обижаться колледж круг выход занятие плевать\n",
      "topic_3: ладный физика встретиться дверь планшет разговор победитель умный сумка авария\n",
      "topic_4: весь дождь это петь мечтать частый появляться цвет плюс абсолютно\n",
      "topic_5: снегурочка фикбук обидеть побриться лавочка офигительный одинаково строй смелый mashushnik\n",
      "topic_6: жизнь любимый твой дело сколько тепло джинсы море отсутствие важно\n",
      "topic_7: друг сильно начало значит везде дурацкий минус мудак забить подойти\n",
      "topic_8: болеть работа казаться глаз вспомнить готовый кроме придумать общий форма\n",
      "topic_9: ночь парень классный милый прекрасный спрашивать лола почитать спокойный это\n",
      "topic_10: понимать приходить это оставить быстрый всё мнение понятие сушить воспринимать\n",
      "topic_11: забрать послать фига выпить впереди путь вечный чужой воспоминание идеальный\n",
      "topic_12: сходить любовь ребята машина главное война ссылка штука кинотеатр поле\n",
      "topic_13: неделя мороз подарок следующий злой безумно дед лишний декабрь рад\n",
      "topic_14: купить убить несколько сильный минь обязательно вкусный занятый поднять нит\n",
      "topic_15: жалко ранний еда печаль заметить скинуть всё внимание недавно это\n",
      "topic_16: год новый это прочитать отдать рождество тётя диалог радио змея\n",
      "topic_17: телефон столько зима интернет верить услышать карта чудо святой модель\n",
      "topic_18: сказать наш учёба стоить это молодец типо ахахах победа поплакать\n",
      "topic_19: снегурочка фикбук обидеть побриться лавочка офигительный одинаково строй смелый mashushnik\n",
      "topic_20: вообще блядь спасибо помочь это всё воскресение сдохнуть белый мена\n",
      "topic_21: первый маленький сезон кофе ездить ооо это настать никита фон\n",
      "topic_22: минута фотка отправить скучный ахахи отдохнуть маша жир топ знак\n",
      "topic_23: месяц долго слишком туда это рассказывать радоваться всё явно followback\n",
      "topic_24: говорить скучно капец место это нормальный похоже вместо онлайн обычный\n",
      "topic_25: почему пока закончиться конец начинать вода общаться ставить шоколад вино\n",
      "topic_26: лента норма девочка голос страшный иметь всё это дебил согласиться\n",
      "topic_27: человек который урок видеть фильм книга химия обида просмотр гонять\n",
      "topic_28: день целый провести бегать жутко танец идиот это офигенный власть\n",
      "topic_29: ужасно бывать третий рождение универ это зачёт геометрия запись красота\n",
      "topic_30: хотеть класс немного куча всё это фраза собрать шикарный поменяться\n",
      "topic_31: нужный грустно выйти ааа пздца народ удалить это добро повод\n",
      "topic_32: привет съесть включить прислать холодильник опаздывать тварь луи взгляд найл\n",
      "topic_33: страна просыпаться чай счастие центр читатель обсуждать ерунда сша порадовать\n",
      "topic_34: остаться пора чувствовать помнить учиться сей кстати всё решать это\n",
      "topic_35: мочь сразу пожалуйста отвечать интересный письмо длинный положить получать одновременно\n",
      "topic_36: тяжело кровь итог возможно метро рубль встреча это всё follow\n",
      "topic_37: москва семья единственный курс весело тысяча зал вкус отмечать реклама\n",
      "topic_38: жаль смочь вещь это научиться принять задрот успех добиться сосать\n",
      "topic_39: второй пусть вид приложение счёт компания закон буква качать пользоваться\n",
      "topic_40: нужно именно жопа либо везти всё это лёд заебись инф\n",
      "topic_41: написать твит история погулять сначала детство имя земля нафиг многое\n",
      "topic_42: сидеть круто далёкий понравиться слышать важный это узнавать факт цена\n",
      "topic_43: всё писать вчера равно простить это хуйня поговорить номер личный\n",
      "topic_44: папа бесить честно короче подарить чувак женщина радовать выглядеть вконтакте\n",
      "topic_45: увидеть прям магазин попасть упасть кровать переживать готовить муж сучка\n",
      "topic_46: просто правда это нету начаться всё никакой ощущение странный teamfollowback\n",
      "topic_47: плохо прийтись получиться поход сердце ахи всё закончить четверть остановка\n",
      "topic_48: пиздец оно ващий ёбаный идея забывать выбор всё клуб ржать\n",
      "topic_49: лень понедельник ошибка мальчик сторона рассказать баба чёрт это девка\n",
      "topic_50: искать оказаться ответ огромный мать задание валяться сгореть это лера\n",
      "topic_51: время дать вечер должный пятница звать сочувствовать это отдых свободный\n",
      "topic_52: самый ждать город мир дорогой список доехать войти веселиться малышка\n",
      "topic_53: голова песня любим текст практически всё долг атмосфера бляяять лита\n",
      "topic_54: очень сдать сессия это собака кошка пугать котёнок животное количество\n",
      "topic_55: вопрос крутой особенно рабочий возвращаться приятный предлагать приготовить это поиск\n",
      "topic_56: хороший стать наверное тема это показать всё https впервые летний\n",
      "topic_57: каждый плохой душа каток ночью проспать вспоминать это завтрашний отличный\n",
      "topic_58: играть утром спасть подумать удача олимпиада точнее маршрутка всё армия\n",
      "topic_59: мало ребёнок кино рада всё веселие это искренне выпускной пох\n",
      "topic_60: утро проснуться добрый чёрный новость обычно желание становиться проходить всё\n",
      "topic_61: понять деньга погода страшно это всё кончиться больший заниматься называть\n",
      "topic_62: говно поэтому комната сдавать украина зря инет ухо режим срочно\n",
      "topic_63: заходить смысл понятно присниться вести шутка лёгкий это живой всё\n",
      "topic_64: ещё это хотя жить тупой сто списать проц похвалить фикбук\n",
      "topic_65: домой вместе пропустить всякий случай звонок всё будущее название ура\n",
      "topic_66: найти назад получить готовиться близкий оказываться оставаться всё полтора это\n",
      "topic_67: час момент начать зато концерт даа стоять это ожидание всё\n",
      "topic_68: сегодня вечером покупать мечта сосед прошлый закрыть поезд обед молодой\n",
      "topic_69: ненавидеть ходить взять ваш случиться село расписание малый вырасти англ\n",
      "topic_70: пойти забыть читать твиттер зайти вернуться алгебра всё это сомневаться\n",
      "topic_71: гулять праздник свет ахах половина кой кароч простой возможность обожать\n",
      "topic_72: завтра экзамен бояться всё сегодняшний отпустить нууа стремный кааак полить\n",
      "topic_73: http кухня мастер приглашать ярмарка внизу смелый обидеть офигительный лавочка\n",
      "topic_74: блин сниться брать квартира всё ум подряд это радость курить\n",
      "topic_75: нога дорога поставить комп умирать спросить смеяться позвать заняться возле\n",
      "topic_76: обидно давать уметь январь жесть сестра это высокий сменить паспорт\n",
      "topic_77: плакать слеза сила бабушка одноклассник считать холод дима сладкий глупо\n",
      "topic_78: школа прийти улица заболеть пара ехать фото часть хер также\n",
      "topic_79: ибо проблема лето план скорый сайт настолько это менять повезти\n",
      "topic_80: спать мама посмотреть сериал зелёный это член марс перехотеться демон\n",
      "topic_81: идти бог реально право это блиина пробка желать ручка слава\n",
      "topic_82: ага мозг мужчина зло ныть всё отдыхать скайп заебал ясно\n",
      "topic_83: учить слово старый билет киев похожий многие биатлон украинский biathlon\n",
      "topic_84: знать сделать лицо пароль команда вобщий набрать враг логин изучение\n",
      "topic_85: давно приехать красивый группа ппц серьёзно смерть это приятно поддержка\n",
      "topic_86: всё таки серия выходить интересно неужели посидеть канал путин многий\n",
      "topic_87: большой нравиться сон вокруг перестать постоянно нахуй всё палец немой\n",
      "topic_88: хватать русский видео бежать премьера аха хоббит блог всё это\n",
      "topic_89: свой дом думать скучать снова всё поехать родный обратно представлять\n",
      "topic_90: хотеться настроение снег надеяться новогодний ёлка жрать окно танцевать пацан\n",
      "topic_91: любить никак это всё смешно снять бить похуй aizadolmatova грудь\n",
      "topic_92: делать никто музыка слушать нечего пить разговаривать язык кидать пиво\n",
      "topic_93: выходной нормально точно полный игра действительно весёлый всё сюда заехать\n",
      "topic_94: решить собираться начинаться позвонить всё ради смс захотеться произойти мешать\n",
      "topic_95: скоро встать узнать подруга аааа наверно это фотография дойти всё\n",
      "topic_96: нибыть пол россия почта это тянуть привычка чтоль очевидный наслать\n",
      "topic_97: последний работать лежать видимо остальной это красный сутки вторник смешной\n",
      "topic_98: смотреть рука кот стол котик помыть котэ персик питомец разочароваться\n",
      "topic_99: уйти мысль рядом брат ток пять всё это разбить тупить\n"
     ]
    }
   ],
   "source": [
    "get_topics_words(final_model, 100)"
   ]
  },
  {
   "cell_type": "code",
   "execution_count": null,
   "id": "75771f62",
   "metadata": {},
   "outputs": [],
   "source": []
  }
 ],
 "metadata": {
  "kernelspec": {
   "display_name": "Python 3 (ipykernel)",
   "language": "python",
   "name": "python3"
  },
  "language_info": {
   "codemirror_mode": {
    "name": "ipython",
    "version": 3
   },
   "file_extension": ".py",
   "mimetype": "text/x-python",
   "name": "python",
   "nbconvert_exporter": "python",
   "pygments_lexer": "ipython3",
   "version": "3.9.13"
  }
 },
 "nbformat": 4,
 "nbformat_minor": 5
}
