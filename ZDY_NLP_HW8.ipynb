{
 "cells": [
  {
   "cell_type": "markdown",
   "id": "cd0d574a",
   "metadata": {},
   "source": [
    "### Задание 8. Рекуррентные нейронные сети"
   ]
  },
  {
   "cell_type": "code",
   "execution_count": 1,
   "id": "e79cb9da",
   "metadata": {},
   "outputs": [],
   "source": [
    "import pandas as pd\n",
    "import numpy as np\n",
    "\n",
    "from string import punctuation\n",
    "from stop_words import get_stop_words\n",
    "from pymorphy2 import MorphAnalyzer\n",
    "import re\n",
    "from utils import apostrophe_dict, emoticon_dict, short_word_dict\n",
    "\n",
    "from tensorflow.keras.models import Sequential\n",
    "from tensorflow.keras.layers import Dense, Dropout, Activation, Input, Embedding, Masking\n",
    "from tensorflow.keras.layers import Conv1D, GlobalMaxPool1D, MaxPooling1D, SimpleRNN, LSTM\n",
    "from tensorflow.keras.preprocessing.text import Tokenizer\n",
    "from tensorflow.keras.preprocessing.sequence import pad_sequences\n",
    "from tensorflow.keras.callbacks import EarlyStopping  \n",
    "\n",
    "from tqdm import tqdm\n",
    "tqdm.pandas()\n",
    "\n",
    "import warnings\n",
    "warnings.filterwarnings('ignore')"
   ]
  },
  {
   "cell_type": "code",
   "execution_count": 2,
   "id": "8d6c3cc6",
   "metadata": {},
   "outputs": [],
   "source": [
    "df_train = pd.read_csv('train.csv')\n",
    "df_val = pd.read_csv('val.csv')"
   ]
  },
  {
   "cell_type": "code",
   "execution_count": 3,
   "id": "0a612ae9",
   "metadata": {},
   "outputs": [
    {
     "data": {
      "text/html": [
       "<div>\n",
       "<style scoped>\n",
       "    .dataframe tbody tr th:only-of-type {\n",
       "        vertical-align: middle;\n",
       "    }\n",
       "\n",
       "    .dataframe tbody tr th {\n",
       "        vertical-align: top;\n",
       "    }\n",
       "\n",
       "    .dataframe thead th {\n",
       "        text-align: right;\n",
       "    }\n",
       "</style>\n",
       "<table border=\"1\" class=\"dataframe\">\n",
       "  <thead>\n",
       "    <tr style=\"text-align: right;\">\n",
       "      <th></th>\n",
       "      <th>id</th>\n",
       "      <th>text</th>\n",
       "      <th>class</th>\n",
       "    </tr>\n",
       "  </thead>\n",
       "  <tbody>\n",
       "    <tr>\n",
       "      <th>0</th>\n",
       "      <td>0</td>\n",
       "      <td>@alisachachka не уезжаааааааай. :(❤ я тоже не ...</td>\n",
       "      <td>0</td>\n",
       "    </tr>\n",
       "    <tr>\n",
       "      <th>1</th>\n",
       "      <td>1</td>\n",
       "      <td>RT @GalyginVadim: Ребята и девчата!\\nВсе в кин...</td>\n",
       "      <td>1</td>\n",
       "    </tr>\n",
       "    <tr>\n",
       "      <th>2</th>\n",
       "      <td>2</td>\n",
       "      <td>RT @ARTEM_KLYUSHIN: Кто ненавидит пробки ретви...</td>\n",
       "      <td>0</td>\n",
       "    </tr>\n",
       "    <tr>\n",
       "      <th>3</th>\n",
       "      <td>3</td>\n",
       "      <td>RT @epupybobv: Хочется котлету по-киевски. Зап...</td>\n",
       "      <td>1</td>\n",
       "    </tr>\n",
       "  </tbody>\n",
       "</table>\n",
       "</div>"
      ],
      "text/plain": [
       "   id                                               text  class\n",
       "0   0  @alisachachka не уезжаааааааай. :(❤ я тоже не ...      0\n",
       "1   1  RT @GalyginVadim: Ребята и девчата!\\nВсе в кин...      1\n",
       "2   2  RT @ARTEM_KLYUSHIN: Кто ненавидит пробки ретви...      0\n",
       "3   3  RT @epupybobv: Хочется котлету по-киевски. Зап...      1"
      ]
     },
     "execution_count": 3,
     "metadata": {},
     "output_type": "execute_result"
    }
   ],
   "source": [
    "df_train.head(4)"
   ]
  },
  {
   "cell_type": "code",
   "execution_count": 4,
   "id": "0ea15f54",
   "metadata": {},
   "outputs": [
    {
     "data": {
      "text/html": [
       "<div>\n",
       "<style scoped>\n",
       "    .dataframe tbody tr th:only-of-type {\n",
       "        vertical-align: middle;\n",
       "    }\n",
       "\n",
       "    .dataframe tbody tr th {\n",
       "        vertical-align: top;\n",
       "    }\n",
       "\n",
       "    .dataframe thead th {\n",
       "        text-align: right;\n",
       "    }\n",
       "</style>\n",
       "<table border=\"1\" class=\"dataframe\">\n",
       "  <thead>\n",
       "    <tr style=\"text-align: right;\">\n",
       "      <th></th>\n",
       "      <th>id</th>\n",
       "      <th>text</th>\n",
       "      <th>class</th>\n",
       "    </tr>\n",
       "  </thead>\n",
       "  <tbody>\n",
       "    <tr>\n",
       "      <th>0</th>\n",
       "      <td>181467</td>\n",
       "      <td>RT @TukvaSociopat: Максимальный репост! ))) #є...</td>\n",
       "      <td>1</td>\n",
       "    </tr>\n",
       "    <tr>\n",
       "      <th>1</th>\n",
       "      <td>181468</td>\n",
       "      <td>чтоб у меня з.п. ежегодно индексировали на инд...</td>\n",
       "      <td>0</td>\n",
       "    </tr>\n",
       "    <tr>\n",
       "      <th>2</th>\n",
       "      <td>181469</td>\n",
       "      <td>@chilyandlime нехуя мне не хорошо !!! :((((</td>\n",
       "      <td>0</td>\n",
       "    </tr>\n",
       "    <tr>\n",
       "      <th>3</th>\n",
       "      <td>181470</td>\n",
       "      <td>@inafish нее , когда ногами ахахах когда?ахаха...</td>\n",
       "      <td>0</td>\n",
       "    </tr>\n",
       "  </tbody>\n",
       "</table>\n",
       "</div>"
      ],
      "text/plain": [
       "       id                                               text  class\n",
       "0  181467  RT @TukvaSociopat: Максимальный репост! ))) #є...      1\n",
       "1  181468  чтоб у меня з.п. ежегодно индексировали на инд...      0\n",
       "2  181469        @chilyandlime нехуя мне не хорошо !!! :((((      0\n",
       "3  181470  @inafish нее , когда ногами ахахах когда?ахаха...      0"
      ]
     },
     "execution_count": 4,
     "metadata": {},
     "output_type": "execute_result"
    }
   ],
   "source": [
    "df_val.head(4)"
   ]
  },
  {
   "cell_type": "code",
   "execution_count": 5,
   "id": "a58a469e",
   "metadata": {},
   "outputs": [],
   "source": [
    "sw = set(get_stop_words('ru'))\n",
    "exclude = set(punctuation)\n",
    "morpher = MorphAnalyzer()"
   ]
  },
  {
   "cell_type": "code",
   "execution_count": 6,
   "id": "15492cd0",
   "metadata": {},
   "outputs": [],
   "source": [
    "def replace_words(text,dict_): \n",
    "    output = ''\n",
    "    \n",
    "    for word in text.split(' '):\n",
    "        word = word.strip()\n",
    "        if word in dict_.keys(): \n",
    "            output += ' ' + dict_[word]\n",
    "        else:\n",
    "            output += ' ' + word\n",
    "            \n",
    "    return output\n",
    "\n",
    "def preprocess_text(txt):\n",
    "    txt = str(txt)\n",
    "    txt = re.sub('[\\,]','',txt)\n",
    "    txt = re.sub('@[\\w]*','',txt)\n",
    "    txt = replace_words(txt, emoticon_dict)\n",
    "    txt = replace_words(txt, apostrophe_dict)\n",
    "    txt = replace_words(txt, short_word_dict)\n",
    "    txt = \"\".join(c for c in txt if c not in exclude)\n",
    "    txt = txt.lower()\n",
    "    txt = re.sub('\\sне', 'не', txt)\n",
    "    txt = [morpher.parse(word)[0].normal_form for word in txt.split() if word not in sw]\n",
    "    \n",
    "    return ' '.join(txt)"
   ]
  },
  {
   "cell_type": "code",
   "execution_count": 7,
   "id": "e2c4a7bd",
   "metadata": {},
   "outputs": [
    {
     "name": "stderr",
     "output_type": "stream",
     "text": [
      "100%|████████████████████████████████████████████████████████████████████████| 181467/181467 [02:28<00:00, 1225.54it/s]\n",
      "100%|██████████████████████████████████████████████████████████████████████████| 22683/22683 [00:18<00:00, 1222.03it/s]\n"
     ]
    }
   ],
   "source": [
    "df_train['text'] = df_train['text'].progress_apply(preprocess_text)\n",
    "df_val['text'] = df_val['text'].progress_apply(preprocess_text)"
   ]
  },
  {
   "cell_type": "code",
   "execution_count": 8,
   "id": "f532fd04",
   "metadata": {},
   "outputs": [
    {
     "data": {
      "text/html": [
       "<div>\n",
       "<style scoped>\n",
       "    .dataframe tbody tr th:only-of-type {\n",
       "        vertical-align: middle;\n",
       "    }\n",
       "\n",
       "    .dataframe tbody tr th {\n",
       "        vertical-align: top;\n",
       "    }\n",
       "\n",
       "    .dataframe thead th {\n",
       "        text-align: right;\n",
       "    }\n",
       "</style>\n",
       "<table border=\"1\" class=\"dataframe\">\n",
       "  <thead>\n",
       "    <tr style=\"text-align: right;\">\n",
       "      <th></th>\n",
       "      <th>id</th>\n",
       "      <th>text</th>\n",
       "      <th>class</th>\n",
       "    </tr>\n",
       "  </thead>\n",
       "  <tbody>\n",
       "    <tr>\n",
       "      <th>0</th>\n",
       "      <td>0</td>\n",
       "      <td>уезжаааааааать ❤ тожена хотеть уезжать</td>\n",
       "      <td>0</td>\n",
       "    </tr>\n",
       "    <tr>\n",
       "      <th>1</th>\n",
       "      <td>1</td>\n",
       "      <td>rt ребята девчата кино любовь завтра вотэтолюбовь</td>\n",
       "      <td>1</td>\n",
       "    </tr>\n",
       "    <tr>\n",
       "      <th>2</th>\n",
       "      <td>2</td>\n",
       "      <td>rt ктоненавидеть пробка ретвит rt</td>\n",
       "      <td>0</td>\n",
       "    </tr>\n",
       "    <tr>\n",
       "      <th>3</th>\n",
       "      <td>3</td>\n",
       "      <td>rt хотеться котлета покиевск запретный плод happy</td>\n",
       "      <td>1</td>\n",
       "    </tr>\n",
       "  </tbody>\n",
       "</table>\n",
       "</div>"
      ],
      "text/plain": [
       "   id                                               text  class\n",
       "0   0             уезжаааааааать ❤ тожена хотеть уезжать      0\n",
       "1   1  rt ребята девчата кино любовь завтра вотэтолюбовь      1\n",
       "2   2                  rt ктоненавидеть пробка ретвит rt      0\n",
       "3   3  rt хотеться котлета покиевск запретный плод happy      1"
      ]
     },
     "execution_count": 8,
     "metadata": {},
     "output_type": "execute_result"
    }
   ],
   "source": [
    "df_train.head(4)"
   ]
  },
  {
   "cell_type": "code",
   "execution_count": 9,
   "id": "2b52e4f8",
   "metadata": {},
   "outputs": [
    {
     "data": {
      "text/html": [
       "<div>\n",
       "<style scoped>\n",
       "    .dataframe tbody tr th:only-of-type {\n",
       "        vertical-align: middle;\n",
       "    }\n",
       "\n",
       "    .dataframe tbody tr th {\n",
       "        vertical-align: top;\n",
       "    }\n",
       "\n",
       "    .dataframe thead th {\n",
       "        text-align: right;\n",
       "    }\n",
       "</style>\n",
       "<table border=\"1\" class=\"dataframe\">\n",
       "  <thead>\n",
       "    <tr style=\"text-align: right;\">\n",
       "      <th></th>\n",
       "      <th>id</th>\n",
       "      <th>text</th>\n",
       "      <th>class</th>\n",
       "    </tr>\n",
       "  </thead>\n",
       "  <tbody>\n",
       "    <tr>\n",
       "      <th>0</th>\n",
       "      <td>181467</td>\n",
       "      <td>rt максимальный репост happy євромайдан httptc...</td>\n",
       "      <td>1</td>\n",
       "    </tr>\n",
       "    <tr>\n",
       "      <th>1</th>\n",
       "      <td>181468</td>\n",
       "      <td>зп ежегодно индексировать индекс инфляция тари...</td>\n",
       "      <td>0</td>\n",
       "    </tr>\n",
       "    <tr>\n",
       "      <th>2</th>\n",
       "      <td>181469</td>\n",
       "      <td>нехуй мнен</td>\n",
       "      <td>0</td>\n",
       "    </tr>\n",
       "    <tr>\n",
       "      <th>3</th>\n",
       "      <td>181470</td>\n",
       "      <td>нога ахахи когдаахах честнна помнить завтра шк...</td>\n",
       "      <td>0</td>\n",
       "    </tr>\n",
       "  </tbody>\n",
       "</table>\n",
       "</div>"
      ],
      "text/plain": [
       "       id                                               text  class\n",
       "0  181467  rt максимальный репост happy євромайдан httptc...      1\n",
       "1  181468  зп ежегодно индексировать индекс инфляция тари...      0\n",
       "2  181469                                         нехуй мнен      0\n",
       "3  181470  нога ахахи когдаахах честнна помнить завтра шк...      0"
      ]
     },
     "execution_count": 9,
     "metadata": {},
     "output_type": "execute_result"
    }
   ],
   "source": [
    "df_val.head(4)"
   ]
  },
  {
   "cell_type": "code",
   "execution_count": 10,
   "id": "367df417",
   "metadata": {},
   "outputs": [],
   "source": [
    "text_corpus_train = df_train['text'].values\n",
    "text_corpus_valid = df_val['text'].values"
   ]
  },
  {
   "cell_type": "code",
   "execution_count": 11,
   "id": "74e435ca",
   "metadata": {},
   "outputs": [],
   "source": [
    "tokenizer = Tokenizer(num_words=None, \n",
    "                     filters='#$%&()*+-<=>@[\\\\]^_`{|}~\\t\\n',\n",
    "                     lower = False, split = ' ')\n",
    "\n",
    "tokenizer.fit_on_texts(text_corpus_train)"
   ]
  },
  {
   "cell_type": "code",
   "execution_count": 12,
   "id": "7189047e",
   "metadata": {},
   "outputs": [],
   "source": [
    "sequences_train = tokenizer.texts_to_sequences(text_corpus_train)\n",
    "sequences_val = tokenizer.texts_to_sequences(text_corpus_valid)"
   ]
  },
  {
   "cell_type": "code",
   "execution_count": 13,
   "id": "81d077dc",
   "metadata": {},
   "outputs": [],
   "source": [
    "word_count = len(tokenizer.index_word) + 1\n",
    "training_length = max([len(i.split()) for i in text_corpus_train])"
   ]
  },
  {
   "cell_type": "code",
   "execution_count": 14,
   "id": "ef8f5060",
   "metadata": {},
   "outputs": [],
   "source": [
    "X_train = pad_sequences(sequences_train, maxlen=training_length)\n",
    "X_valid = pad_sequences(sequences_val, maxlen=training_length)"
   ]
  },
  {
   "cell_type": "code",
   "execution_count": 15,
   "id": "46276721",
   "metadata": {},
   "outputs": [],
   "source": [
    "y_train = df_train['class'].values\n",
    "y_val = df_val['class'].values"
   ]
  },
  {
   "cell_type": "code",
   "execution_count": 16,
   "id": "0ec4f40a",
   "metadata": {},
   "outputs": [],
   "source": [
    "results = {\n",
    "    'NN': [],\n",
    "    'loss': [],\n",
    "    'accuracy': []\n",
    "}"
   ]
  },
  {
   "cell_type": "code",
   "execution_count": 17,
   "id": "a9b8e9d6",
   "metadata": {},
   "outputs": [],
   "source": [
    "early_stopping = EarlyStopping(monitor='val_loss')"
   ]
  },
  {
   "cell_type": "markdown",
   "id": "8d462fc2",
   "metadata": {},
   "source": [
    "#### CNN"
   ]
  },
  {
   "cell_type": "code",
   "execution_count": 18,
   "id": "6c241fd7",
   "metadata": {},
   "outputs": [],
   "source": [
    "model = Sequential()\n",
    "\n",
    "model.add(Embedding(input_dim=word_count, \n",
    "                    input_length=training_length, \n",
    "                    output_dim=30, \n",
    "                    trainable=True, \n",
    "                    mask_zero=True))\n",
    "\n",
    "model.add(Masking(mask_value=0.0))\n",
    "model.add(Conv1D(128, 3))\n",
    "model.add(Activation('relu'))\n",
    "model.add(GlobalMaxPool1D())\n",
    "model.add(Dense(10))\n",
    "model.add(Activation('relu'))\n",
    "model.add(Dense(1))\n",
    "model.add(Activation('sigmoid'))\n",
    "\n",
    "model.compile(optimizer='adam', loss='binary_crossentropy', metrics=['accuracy'])"
   ]
  },
  {
   "cell_type": "code",
   "execution_count": 19,
   "id": "ad1c8089",
   "metadata": {},
   "outputs": [
    {
     "name": "stdout",
     "output_type": "stream",
     "text": [
      "Epoch 1/5\n",
      "319/319 [==============================] - 18s 53ms/step - loss: 0.4953 - accuracy: 0.7335 - val_loss: 0.4280 - val_accuracy: 0.7819\n",
      "Epoch 2/5\n",
      "319/319 [==============================] - 17s 52ms/step - loss: 0.3130 - accuracy: 0.8627 - val_loss: 0.4583 - val_accuracy: 0.7772\n"
     ]
    }
   ],
   "source": [
    "history = model.fit(X_train, y_train,\n",
    "                    batch_size=512,\n",
    "                    epochs=5,\n",
    "                    verbose=1,\n",
    "                    validation_split=0.1,\n",
    "                    callbacks=[early_stopping]\n",
    "                    )"
   ]
  },
  {
   "cell_type": "code",
   "execution_count": 20,
   "id": "f57c309d",
   "metadata": {},
   "outputs": [
    {
     "name": "stdout",
     "output_type": "stream",
     "text": [
      "Test score: 0.47195789217948914\n",
      "Test accuracy: 0.7719878554344177\n"
     ]
    }
   ],
   "source": [
    "score = model.evaluate(X_valid, y_val, batch_size=512, verbose=0)\n",
    "print('Test score:', score[0])\n",
    "print('Test accuracy:', score[1])\n",
    "\n",
    "results['NN'].append('CNN')\n",
    "results['loss'].append(score[0])\n",
    "results['accuracy'].append(score[1])"
   ]
  },
  {
   "cell_type": "markdown",
   "id": "8f79ea37",
   "metadata": {},
   "source": [
    "#### SimpleRNN"
   ]
  },
  {
   "cell_type": "code",
   "execution_count": 21,
   "id": "701c295b",
   "metadata": {},
   "outputs": [],
   "source": [
    "model = Sequential()\n",
    "\n",
    "model.add(Embedding(input_dim=word_count, \n",
    "                    input_length=training_length, \n",
    "                    output_dim=30, \n",
    "                    trainable=True, \n",
    "                    mask_zero=True))\n",
    "\n",
    "model.add(Masking(mask_value=0.0))\n",
    "model.add(SimpleRNN(64))\n",
    "model.add(Dense(64, activation='relu'))\n",
    "model.add(Dropout(0.5))\n",
    "model.add(Dense(1, activation='sigmoid'))\n",
    "\n",
    "model.compile(optimizer='adam', loss='binary_crossentropy', metrics=['accuracy'])"
   ]
  },
  {
   "cell_type": "code",
   "execution_count": 22,
   "id": "dc047c25",
   "metadata": {},
   "outputs": [
    {
     "name": "stdout",
     "output_type": "stream",
     "text": [
      "Epoch 1/10\n",
      "319/319 [==============================] - 20s 59ms/step - loss: 0.5027 - accuracy: 0.7278 - val_loss: 0.4359 - val_accuracy: 0.7823\n",
      "Epoch 2/10\n",
      "319/319 [==============================] - 19s 59ms/step - loss: 0.2914 - accuracy: 0.8755 - val_loss: 0.4808 - val_accuracy: 0.7709\n"
     ]
    }
   ],
   "source": [
    "history = model.fit(X_train, y_train,\n",
    "                    batch_size=512,\n",
    "                    epochs=10,\n",
    "                    verbose=1,\n",
    "                    validation_split=0.1,\n",
    "                    callbacks=[early_stopping]\n",
    "                    )"
   ]
  },
  {
   "cell_type": "code",
   "execution_count": 23,
   "id": "bf1cee3a",
   "metadata": {},
   "outputs": [
    {
     "name": "stdout",
     "output_type": "stream",
     "text": [
      "Test score: 0.4812166690826416\n",
      "Test accuracy: 0.7678437829017639\n"
     ]
    }
   ],
   "source": [
    "score = model.evaluate(X_valid, y_val, batch_size=512, verbose=0)\n",
    "print('Test score:', score[0])\n",
    "print('Test accuracy:', score[1])\n",
    "\n",
    "results['NN'].append('SimpleRNN')\n",
    "results['loss'].append(score[0])\n",
    "results['accuracy'].append(score[1])"
   ]
  },
  {
   "cell_type": "markdown",
   "id": "2c0b1313",
   "metadata": {},
   "source": [
    "#### CNN+RNN"
   ]
  },
  {
   "cell_type": "code",
   "execution_count": 24,
   "id": "dfb9e9d7",
   "metadata": {},
   "outputs": [],
   "source": [
    "model = Sequential()\n",
    "\n",
    "model.add(Embedding(input_dim=word_count,\n",
    "                    input_length=training_length,\n",
    "                    output_dim=30,\n",
    "                    trainable=True,\n",
    "                    mask_zero=True))\n",
    "\n",
    "model.add(Masking(mask_value=0.0))\n",
    "model.add(Conv1D(32, 2))\n",
    "model.add(Activation('relu'))\n",
    "model.add(Conv1D(16, 2))\n",
    "model.add(Activation('relu'))\n",
    "model.add(MaxPooling1D(1))\n",
    "model.add(LSTM(16,return_sequences=True))\n",
    "model.add(LSTM(16))\n",
    "model.add(Dense(32))\n",
    "model.add(Activation('relu'))\n",
    "model.add(Dense(1))\n",
    "model.add(Activation('sigmoid'))\n",
    "\n",
    "model.compile(optimizer='adam', loss='binary_crossentropy', metrics=['accuracy'])"
   ]
  },
  {
   "cell_type": "code",
   "execution_count": 25,
   "id": "7868dca8",
   "metadata": {},
   "outputs": [
    {
     "name": "stdout",
     "output_type": "stream",
     "text": [
      "Epoch 1/10\n",
      "319/319 [==============================] - 25s 69ms/step - loss: 0.5145 - accuracy: 0.7174 - val_loss: 0.4318 - val_accuracy: 0.7812\n",
      "Epoch 2/10\n",
      "319/319 [==============================] - 20s 63ms/step - loss: 0.3092 - accuracy: 0.8640 - val_loss: 0.4666 - val_accuracy: 0.7691\n"
     ]
    }
   ],
   "source": [
    "history = model.fit(X_train, y_train,\n",
    "                    batch_size=512,\n",
    "                    epochs=10,\n",
    "                    verbose=1,\n",
    "                    validation_split=0.1,\n",
    "                    callbacks=[early_stopping])"
   ]
  },
  {
   "cell_type": "code",
   "execution_count": 26,
   "id": "fd87cfdc",
   "metadata": {},
   "outputs": [
    {
     "name": "stdout",
     "output_type": "stream",
     "text": [
      "Test score: 0.46573373675346375\n",
      "Test accuracy: 0.7727813720703125\n"
     ]
    }
   ],
   "source": [
    "score = model.evaluate(X_valid, y_val, batch_size=512, verbose=0)\n",
    "print('Test score:', score[0])\n",
    "print('Test accuracy:', score[1])\n",
    "\n",
    "results['NN'].append('CNN+RNN')\n",
    "results['loss'].append(score[0])\n",
    "results['accuracy'].append(score[1])"
   ]
  },
  {
   "cell_type": "markdown",
   "id": "042962dc",
   "metadata": {},
   "source": [
    "#### RNN+CNN"
   ]
  },
  {
   "cell_type": "code",
   "execution_count": 27,
   "id": "b6337c58",
   "metadata": {},
   "outputs": [],
   "source": [
    "model = Sequential()\n",
    "\n",
    "model.add(Embedding(input_dim=word_count, \n",
    "                    input_length=training_length, \n",
    "                    output_dim=30, \n",
    "                    trainable=True, \n",
    "                    mask_zero=True))\n",
    "\n",
    "model.add(Masking(mask_value=0.0))\n",
    "model.add(LSTM(32,return_sequences=True))\n",
    "model.add(LSTM(32,return_sequences=True))\n",
    "model.add(Conv1D(32, 3))\n",
    "model.add(Activation('relu'))\n",
    "model.add(MaxPooling1D(2))\n",
    "model.add(Activation('relu'))\n",
    "model.add(Conv1D(16, 3))\n",
    "model.add(Activation('relu'))\n",
    "model.add(GlobalMaxPool1D())\n",
    "model.add(Dense(64))\n",
    "model.add(Activation('relu'))\n",
    "model.add(Dense(1))\n",
    "model.add(Activation('sigmoid'))\n",
    "\n",
    "model.compile(optimizer='adam', loss='binary_crossentropy', metrics=['accuracy'])"
   ]
  },
  {
   "cell_type": "code",
   "execution_count": 28,
   "id": "6a9b1322",
   "metadata": {},
   "outputs": [
    {
     "name": "stdout",
     "output_type": "stream",
     "text": [
      "Epoch 1/10\n",
      "319/319 [==============================] - 44s 122ms/step - loss: 0.5316 - accuracy: 0.6995 - val_loss: 0.4386 - val_accuracy: 0.7779\n",
      "Epoch 2/10\n",
      "319/319 [==============================] - 37s 116ms/step - loss: 0.3298 - accuracy: 0.8544 - val_loss: 0.4565 - val_accuracy: 0.7775\n"
     ]
    }
   ],
   "source": [
    "history = model.fit(X_train, y_train,\n",
    "                    batch_size=512,\n",
    "                    epochs=10,\n",
    "                    verbose=1,\n",
    "                    validation_split=0.1,\n",
    "                    callbacks=[early_stopping])"
   ]
  },
  {
   "cell_type": "code",
   "execution_count": 29,
   "id": "31933f51",
   "metadata": {},
   "outputs": [
    {
     "name": "stdout",
     "output_type": "stream",
     "text": [
      "Test score: 0.4682137072086334\n",
      "Test accuracy: 0.7696512937545776\n"
     ]
    }
   ],
   "source": [
    "score = model.evaluate(X_valid, y_val, batch_size=512, verbose=0)\n",
    "print('Test score:', score[0])\n",
    "print('Test accuracy:', score[1])\n",
    "\n",
    "results['NN'].append('RNN+CNN')\n",
    "results['loss'].append(score[0])\n",
    "results['accuracy'].append(score[1])"
   ]
  },
  {
   "cell_type": "markdown",
   "id": "be378ff7",
   "metadata": {},
   "source": [
    "#### Результат"
   ]
  },
  {
   "cell_type": "code",
   "execution_count": 30,
   "id": "7b355945",
   "metadata": {},
   "outputs": [
    {
     "data": {
      "text/html": [
       "<div>\n",
       "<style scoped>\n",
       "    .dataframe tbody tr th:only-of-type {\n",
       "        vertical-align: middle;\n",
       "    }\n",
       "\n",
       "    .dataframe tbody tr th {\n",
       "        vertical-align: top;\n",
       "    }\n",
       "\n",
       "    .dataframe thead th {\n",
       "        text-align: right;\n",
       "    }\n",
       "</style>\n",
       "<table border=\"1\" class=\"dataframe\">\n",
       "  <thead>\n",
       "    <tr style=\"text-align: right;\">\n",
       "      <th></th>\n",
       "      <th>NN</th>\n",
       "      <th>loss</th>\n",
       "      <th>accuracy</th>\n",
       "    </tr>\n",
       "  </thead>\n",
       "  <tbody>\n",
       "    <tr>\n",
       "      <th>0</th>\n",
       "      <td>CNN</td>\n",
       "      <td>0.471958</td>\n",
       "      <td>0.771988</td>\n",
       "    </tr>\n",
       "    <tr>\n",
       "      <th>1</th>\n",
       "      <td>SimpleRNN</td>\n",
       "      <td>0.481217</td>\n",
       "      <td>0.767844</td>\n",
       "    </tr>\n",
       "    <tr>\n",
       "      <th>2</th>\n",
       "      <td>CNN+RNN</td>\n",
       "      <td>0.465734</td>\n",
       "      <td>0.772781</td>\n",
       "    </tr>\n",
       "    <tr>\n",
       "      <th>3</th>\n",
       "      <td>RNN+CNN</td>\n",
       "      <td>0.468214</td>\n",
       "      <td>0.769651</td>\n",
       "    </tr>\n",
       "  </tbody>\n",
       "</table>\n",
       "</div>"
      ],
      "text/plain": [
       "          NN      loss  accuracy\n",
       "0        CNN  0.471958  0.771988\n",
       "1  SimpleRNN  0.481217  0.767844\n",
       "2    CNN+RNN  0.465734  0.772781\n",
       "3    RNN+CNN  0.468214  0.769651"
      ]
     },
     "execution_count": 30,
     "metadata": {},
     "output_type": "execute_result"
    }
   ],
   "source": [
    "pd.DataFrame(results)"
   ]
  },
  {
   "cell_type": "markdown",
   "id": "f9aa62e1",
   "metadata": {},
   "source": [
    "Результат у всех примерно одинаковый, обычный CNN выглядит чуть предпочтительнее."
   ]
  },
  {
   "cell_type": "code",
   "execution_count": null,
   "id": "6737af98",
   "metadata": {},
   "outputs": [],
   "source": []
  }
 ],
 "metadata": {
  "kernelspec": {
   "display_name": "Python 3 (ipykernel)",
   "language": "python",
   "name": "python3"
  },
  "language_info": {
   "codemirror_mode": {
    "name": "ipython",
    "version": 3
   },
   "file_extension": ".py",
   "mimetype": "text/x-python",
   "name": "python",
   "nbconvert_exporter": "python",
   "pygments_lexer": "ipython3",
   "version": "3.10.9"
  }
 },
 "nbformat": 4,
 "nbformat_minor": 5
}
