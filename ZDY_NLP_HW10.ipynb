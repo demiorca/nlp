{
 "cells": [
  {
   "cell_type": "markdown",
   "id": "aadb526d",
   "metadata": {},
   "source": [
    "### Задание 10. Машинный перевод. Модель seq2seq и механизм внимания"
   ]
  },
  {
   "cell_type": "code",
   "execution_count": 1,
   "id": "d50b4af0",
   "metadata": {},
   "outputs": [],
   "source": [
    "import numpy as np\n",
    "\n",
    "import re\n",
    "from time import time\n",
    "\n",
    "import torch\n",
    "from torch import nn\n",
    "\n",
    "import matplotlib.pyplot as plt\n",
    "%matplotlib inline\n",
    "\n",
    "import warnings\n",
    "warnings.filterwarnings('ignore')"
   ]
  },
  {
   "cell_type": "code",
   "execution_count": 2,
   "id": "5bdcf3c3",
   "metadata": {},
   "outputs": [],
   "source": [
    "RANDOM_STATE = 41\n",
    "MAX_LEN = 20\n",
    "BATCH_SIZE = 128"
   ]
  },
  {
   "cell_type": "code",
   "execution_count": 3,
   "id": "5f9cbb7b",
   "metadata": {},
   "outputs": [],
   "source": [
    "def preprocess_sentence(w):\n",
    "    w = w.lower().strip()\n",
    "    w = re.sub('([?.!,;])', r' \\1 ', w)\n",
    "    w = re.sub(\"[^a-zA-Zа-яА-ЯёЁÁáÓóÉéýи́ы́э́ю́я́?.!,;']+\", ' ', w)\n",
    "    w = w.strip()\n",
    "    w = '<start> ' + w + ' <end>'\n",
    "    \n",
    "    return w"
   ]
  },
  {
   "cell_type": "code",
   "execution_count": 4,
   "id": "dc82a215",
   "metadata": {},
   "outputs": [],
   "source": [
    "with open('rus.txt', 'r', encoding='utf-8') as f:\n",
    "    lines = f.read().strip().split('\\n')\n",
    "    \n",
    "word_pairs = [[preprocess_sentence(w) for w in l.split('\\t')[:2]]  for l in lines]\n",
    "\n",
    "y_lang, x_lang = zip(*word_pairs)"
   ]
  },
  {
   "cell_type": "code",
   "execution_count": 5,
   "id": "3800224b",
   "metadata": {},
   "outputs": [
    {
     "data": {
      "text/plain": [
       "(479223, 479223)"
      ]
     },
     "execution_count": 5,
     "metadata": {},
     "output_type": "execute_result"
    }
   ],
   "source": [
    "len(x_lang), len(y_lang)"
   ]
  },
  {
   "cell_type": "code",
   "execution_count": 6,
   "id": "3acbd1ab",
   "metadata": {},
   "outputs": [
    {
     "data": {
      "text/plain": [
       "('<start> марш ! <end>',\n",
       " '<start> иди . <end>',\n",
       " '<start> идите . <end>',\n",
       " '<start> здравствуйте . <end>')"
      ]
     },
     "execution_count": 6,
     "metadata": {},
     "output_type": "execute_result"
    }
   ],
   "source": [
    "x_lang[:4]"
   ]
  },
  {
   "cell_type": "code",
   "execution_count": 7,
   "id": "66002e8e",
   "metadata": {},
   "outputs": [
    {
     "data": {
      "text/plain": [
       "('<start> go . <end>',\n",
       " '<start> go . <end>',\n",
       " '<start> go . <end>',\n",
       " '<start> hi . <end>')"
      ]
     },
     "execution_count": 7,
     "metadata": {},
     "output_type": "execute_result"
    }
   ],
   "source": [
    "y_lang[:4]"
   ]
  },
  {
   "cell_type": "code",
   "execution_count": 8,
   "id": "4cc06a72",
   "metadata": {},
   "outputs": [],
   "source": [
    "def get_vocabs(lang):\n",
    "    corpus = ' '.join(w for w in lang)\n",
    "    vocab = set(corpus.split())\n",
    "    char2idx = {w: i for i, w in enumerate(vocab, 1)}\n",
    "    idx2char = {i: w for w, i in char2idx.items()}\n",
    "    \n",
    "    return char2idx, idx2char, len(vocab) + 1"
   ]
  },
  {
   "cell_type": "code",
   "execution_count": 9,
   "id": "57f3a390",
   "metadata": {},
   "outputs": [],
   "source": [
    "x_char2idx, x_idx2char, x_vocab_size = get_vocabs(x_lang)\n",
    "y_char2idx, y_idx2char, y_vocab_size = get_vocabs(y_lang)"
   ]
  },
  {
   "cell_type": "code",
   "execution_count": 10,
   "id": "6df6fc20",
   "metadata": {},
   "outputs": [
    {
     "data": {
      "image/png": "[encoded data removed]",
      "text/plain": [
       "<Figure size 1000x400 with 2 Axes>"
      ]
     },
     "metadata": {},
     "output_type": "display_data"
    }
   ],
   "source": [
    "plt.figure(figsize=(10, 4))\n",
    "\n",
    "plt.subplot(1, 2, 1)\n",
    "plt.hist([len(x.split()) for x in x_lang], bins=50)\n",
    "plt.title('x_vocab')\n",
    "\n",
    "plt.subplot(1, 2, 2)\n",
    "plt.hist([len(y.split()) for y in y_lang], bins=50)\n",
    "plt.title('y_vocab')\n",
    "\n",
    "plt.show()"
   ]
  },
  {
   "cell_type": "code",
   "execution_count": 11,
   "id": "6cc6a2da",
   "metadata": {},
   "outputs": [],
   "source": [
    "def text_to_seq(text, vocab):\n",
    "    seq = []\n",
    "    for token in text.split():\n",
    "        if token in vocab:\n",
    "            seq.append(vocab[token])\n",
    "    padding = [0] * (MAX_LEN - len(seq))\n",
    "    return seq[:MAX_LEN] + padding"
   ]
  },
  {
   "cell_type": "code",
   "execution_count": 12,
   "id": "cc67810d",
   "metadata": {},
   "outputs": [],
   "source": [
    "X = np.array([text_to_seq(text, x_char2idx) for text in x_lang])\n",
    "Y = np.array([text_to_seq(text, y_char2idx) for text in y_lang])"
   ]
  },
  {
   "cell_type": "code",
   "execution_count": 13,
   "id": "98b37340",
   "metadata": {},
   "outputs": [],
   "source": [
    "class DataWrapper(torch.utils.data.Dataset):\n",
    "    def __init__(self, data, target):\n",
    "        self.data = torch.from_numpy(data)\n",
    "        self.target = torch.from_numpy(target)\n",
    "        \n",
    "    def __getitem__(self, index):\n",
    "        x = self.data[index]\n",
    "        y = self.target[index]\n",
    "            \n",
    "        return x, y\n",
    "    \n",
    "    def __len__(self):\n",
    "        return len(self.data)"
   ]
  },
  {
   "cell_type": "code",
   "execution_count": 14,
   "id": "5663da3d",
   "metadata": {},
   "outputs": [],
   "source": [
    "torch.random.manual_seed(RANDOM_STATE)\n",
    "\n",
    "dataset = DataWrapper(X, Y)\n",
    "\n",
    "loader = torch.utils.data.DataLoader(dataset,\n",
    "                                     batch_size=BATCH_SIZE,\n",
    "                                     shuffle=True)"
   ]
  },
  {
   "cell_type": "code",
   "execution_count": 15,
   "id": "87d5f8c5",
   "metadata": {},
   "outputs": [],
   "source": [
    "class AttentionLayer(nn.Module):\n",
    "    def __init__(self, units=32, hidden_size=512):\n",
    "        super().__init__()\n",
    "        \n",
    "        self.W1 = nn.Linear(hidden_size, units)\n",
    "        self.W2 = nn.Linear(2 * hidden_size, units)\n",
    "        self.V = nn.Linear(units, 1)\n",
    "        \n",
    "    def forward(self, dec_hidden, enc_output):\n",
    "        score = self.V(torch.tanh(self.W1(dec_hidden) + self.W2(enc_output)))\n",
    "        attention_weights = torch.softmax(score, dim=1)\n",
    "        context_vector = attention_weights * enc_output\n",
    "        context_vector = torch.sum(context_vector, dim=1, keepdim=True)\n",
    "        \n",
    "        return context_vector"
   ]
  },
  {
   "cell_type": "code",
   "execution_count": 16,
   "id": "209e5a11",
   "metadata": {},
   "outputs": [],
   "source": [
    "class Encoder(nn.Module):\n",
    "    def __init__(self, embed_dim=256, hidden_size=512):\n",
    "        super().__init__()\n",
    "        \n",
    "        self.embedding = nn.Embedding(x_vocab_size, embed_dim, padding_idx=0)\n",
    "        self.gru = nn.GRU(embed_dim, hidden_size, bidirectional=True, batch_first=True)\n",
    "    \n",
    "    def forward(self, x):\n",
    "        x = self.embedding(x)\n",
    "        output, state = self.gru(x)\n",
    "        state, _ = torch.max(state, dim=0, keepdim=True)\n",
    "        \n",
    "        return output, state"
   ]
  },
  {
   "cell_type": "code",
   "execution_count": 17,
   "id": "8669db7d",
   "metadata": {},
   "outputs": [],
   "source": [
    "class Decoder(nn.Module):\n",
    "    def __init__(self, attention_units=32, embed_dim=256, hidden_size=512):\n",
    "        super().__init__()\n",
    "        \n",
    "        self.attention = AttentionLayer(units=attention_units, hidden_size=hidden_size)\n",
    "        self.embedding = nn.Embedding(y_vocab_size, embed_dim, padding_idx=0)\n",
    "        self.gru = nn.GRU(embed_dim + 2 * hidden_size, hidden_size, batch_first=True)\n",
    "        self.fc = nn.Linear(hidden_size, y_vocab_size)\n",
    "        \n",
    "    def forward(self, x, state, enc_output):\n",
    "        state = state.permute(1, 0, 2)\n",
    "        context_vector = self.attention(state, enc_output)\n",
    "        x = self.embedding(x)\n",
    "        x = torch.cat((context_vector, x), dim=-1)\n",
    "        output, state = self.gru(x)\n",
    "        output = torch.squeeze(output)\n",
    "        output = self.fc(output)\n",
    "        \n",
    "        return output, state"
   ]
  },
  {
   "cell_type": "code",
   "execution_count": 27,
   "id": "0121dbaa",
   "metadata": {},
   "outputs": [],
   "source": [
    "def train_nn(epochs=5, embed_dim=256, hidden_dim=512, lr=1e-3):\n",
    "    \n",
    "    torch.random.manual_seed(RANDOM_STATE)\n",
    "    torch.backends.cudnn.deterministic = True\n",
    "\n",
    "    encoder = Encoder(embed_dim=embed_dim, hidden_size=hidden_dim)\n",
    "    decoder = Decoder(embed_dim=embed_dim, hidden_size=hidden_dim)\n",
    "\n",
    "    param_groups = [\n",
    "    {'params': encoder.parameters(), 'lr': lr},\n",
    "    {'params': decoder.parameters(), 'lr': lr}\n",
    "    ]\n",
    "    \n",
    "    optimizer = torch.optim.Adam(param_groups)\n",
    "    criterion = nn.CrossEntropyLoss()\n",
    "\n",
    "    for epoch in range(epochs):\n",
    "        \n",
    "        start_time = time()\n",
    "        batch_losses = np.array([])\n",
    "        \n",
    "        for inputs, targets in loader:\n",
    "            loss = 0\n",
    "            inputs, targets = inputs, targets\n",
    "            optimizer.zero_grad()\n",
    "            enc_output, enc_hidden = encoder(inputs)\n",
    "            \n",
    "            dec_input = torch.IntTensor([y_char2idx['<start>']] * len(inputs)).reshape(-1, 1)\n",
    "            dec_hidden = enc_hidden.detach().clone().requires_grad_(True)\n",
    "            \n",
    "            for t in range(1, MAX_LEN):\n",
    "                preds, dec_hidden = decoder(dec_input, dec_hidden, enc_output)\n",
    "                loss += criterion(preds, targets[:, t].type(torch.LongTensor))\n",
    "\n",
    "                dec_input = targets[:, t].reshape(-1, 1)\n",
    "            \n",
    "            loss.backward()\n",
    "            optimizer.step()\n",
    "\n",
    "            batch_losses = np.append(batch_losses, loss.item() / t)\n",
    "\n",
    "        print(f'Epoch [{epoch + 1}/{epochs}]. ' \\\n",
    "              f'Loss: {batch_losses.mean():.3f}. ' \\\n",
    "              f'Time: {round(time() - start_time)} с.')\n",
    "\n",
    "    print('Обучение завершено')\n",
    "    \n",
    "    return encoder, decoder"
   ]
  },
  {
   "cell_type": "code",
   "execution_count": null,
   "id": "001b2dc9",
   "metadata": {},
   "outputs": [],
   "source": [
    "enc_model, dec_model = train_nn(epochs=7)"
   ]
  },
  {
   "cell_type": "code",
   "execution_count": null,
   "id": "e7ed2976",
   "metadata": {},
   "outputs": [],
   "source": [
    "def translate(ru_text):\n",
    "    with torch.no_grad():\n",
    "        en_text = ''\n",
    "\n",
    "        ru_text_processed = preprocess_sentence(ru_text)\n",
    "        \n",
    "        ru_text_idx = torch.IntTensor([text_to_seq(ru_text_processed, x_char2idx)]).reshape(1, -1)\n",
    "        \n",
    "        enc_output, enc_hidden = enc_model(ru_text_idx)\n",
    "\n",
    "        dec_hidden = enc_hidden.detach().clone()\n",
    "        \n",
    "        dec_input = torch.IntTensor([y_char2idx['<start>']]).reshape(1, -1)\n",
    "\n",
    "        for t in range(MAX_LEN):\n",
    "            translated, dec_hidden = dec_model(dec_input, dec_hidden, enc_output)\n",
    "\n",
    "            en_idx = torch.argmax(translated)\n",
    "            \n",
    "            en_char = y_idx2char[en_idx.item()]\n",
    "            \n",
    "            if en_char == '<end>':\n",
    "                break\n",
    "\n",
    "            en_text = en_text + en_char + ' '\n",
    "\n",
    "            dec_input = en_idx.reshape(1, -1)\n",
    "\n",
    "    print(f'Текст на русском:\\t\\t{ru_text}\\n'\n",
    "          f'Перевод на английский:\\t{en_text}')"
   ]
  },
  {
   "cell_type": "code",
   "execution_count": null,
   "id": "21909b1d",
   "metadata": {},
   "outputs": [],
   "source": []
  }
 ],
 "metadata": {
  "kernelspec": {
   "display_name": "Python 3 (ipykernel)",
   "language": "python",
   "name": "python3"
  },
  "language_info": {
   "codemirror_mode": {
    "name": "ipython",
    "version": 3
   },
   "file_extension": ".py",
   "mimetype": "text/x-python",
   "name": "python",
   "nbconvert_exporter": "python",
   "pygments_lexer": "ipython3",
   "version": "3.10.9"
  }
 },
 "nbformat": 4,
 "nbformat_minor": 5
}
