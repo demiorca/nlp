{
 "cells": [
  {
   "cell_type": "code",
   "execution_count": 1,
   "id": "498848cd",
   "metadata": {},
   "outputs": [],
   "source": [
    "import pandas as pd\n",
    "\n",
    "from sklearn.feature_extraction.text import CountVectorizer\n",
    "from sklearn.linear_model import LogisticRegression\n",
    "from sklearn.metrics import accuracy_score\n",
    "from sklearn.pipeline import make_pipeline\n",
    "from sklearn.preprocessing import MaxAbsScaler\n",
    "\n",
    "import spacy\n",
    "from tqdm import tqdm\n",
    "\n",
    "import warnings \n",
    "warnings.filterwarnings('ignore', category=DeprecationWarning)"
   ]
  },
  {
   "cell_type": "code",
   "execution_count": 2,
   "id": "1beed67c",
   "metadata": {},
   "outputs": [],
   "source": [
    "train_df = pd.read_csv('train.tsv', delimiter='\\t')\n",
    "test_df = pd.read_csv('test.tsv', delimiter='\\t')"
   ]
  },
  {
   "cell_type": "code",
   "execution_count": 3,
   "id": "051e9eac",
   "metadata": {},
   "outputs": [],
   "source": [
    "train_df['review'] = train_df['review'].apply(lambda x: x.replace('<br />', ' '))\n",
    "test_df['review'] = test_df['review'].apply(lambda x: x.replace('<br />', ' '))"
   ]
  },
  {
   "cell_type": "code",
   "execution_count": 4,
   "id": "c2f808ac",
   "metadata": {},
   "outputs": [],
   "source": [
    "vectorizer = CountVectorizer(ngram_range=(1, 2))\n",
    "scaler = MaxAbsScaler()\n",
    "classifier = LogisticRegression()"
   ]
  },
  {
   "cell_type": "code",
   "execution_count": 5,
   "id": "d079ad9e",
   "metadata": {},
   "outputs": [],
   "source": [
    "model = make_pipeline(vectorizer, scaler, classifier)\n",
    "model.fit(train_df['review'], train_df['is_positive']);"
   ]
  },
  {
   "cell_type": "code",
   "execution_count": 6,
   "id": "8da800ab",
   "metadata": {},
   "outputs": [],
   "source": [
    "# Функция для оценки моделей:\n",
    "\n",
    "def eval_model(model):\n",
    "    pred = model.predict(test_df['review'])\n",
    "    return accuracy_score(test_df['is_positive'], pred)"
   ]
  },
  {
   "cell_type": "code",
   "execution_count": 7,
   "id": "28fb0760",
   "metadata": {},
   "outputs": [
    {
     "name": "stdout",
     "output_type": "stream",
     "text": [
      "Результат с минимальной предобработкой: 0.90376\n"
     ]
    }
   ],
   "source": [
    "results = {}\n",
    "results['minimum_preprocessing'] = eval_model(model)\n",
    "print(f'Результат с минимальной предобработкой: {results[\"minimum_preprocessing\"]}')"
   ]
  },
  {
   "cell_type": "markdown",
   "id": "c82f7960",
   "metadata": {},
   "source": [
    "#### Задание 1.\n",
    "Посмотрите на токены, если будут мусорные, добавьте их в стоп слова и обучите заново"
   ]
  },
  {
   "cell_type": "code",
   "execution_count": 8,
   "id": "05034aff",
   "metadata": {},
   "outputs": [],
   "source": [
    "vectorizer = CountVectorizer(ngram_range=(1, 2), max_df=0.4)\n",
    "model = make_pipeline(vectorizer, scaler, classifier)\n",
    "model.fit(train_df['review'], train_df['is_positive']);"
   ]
  },
  {
   "cell_type": "code",
   "execution_count": 9,
   "id": "dcc30fdd",
   "metadata": {},
   "outputs": [
    {
     "name": "stdout",
     "output_type": "stream",
     "text": [
      "Результат без мусорных токенов: 0.90544\n"
     ]
    }
   ],
   "source": [
    "results['exclude_stopwords'] = eval_model(model)\n",
    "print(f'Результат без мусорных токенов: {results[\"exclude_stopwords\"]}')"
   ]
  },
  {
   "cell_type": "markdown",
   "id": "39b3691d",
   "metadata": {},
   "source": [
    "#### Задание 2. \n",
    "Проверьте, изменилось ли качество при лемматизации/и без неё"
   ]
  },
  {
   "cell_type": "code",
   "execution_count": 10,
   "id": "58e86d33",
   "metadata": {},
   "outputs": [],
   "source": [
    "nlp = spacy.load('en_core_web_sm', disable=['parser'])\n",
    "docs = nlp.pipe(train_df['review'])"
   ]
  },
  {
   "cell_type": "code",
   "execution_count": 11,
   "id": "c43f4133",
   "metadata": {},
   "outputs": [
    {
     "name": "stderr",
     "output_type": "stream",
     "text": [
      "100%|████████████████████████████████████████████████████████████████████████████| 25000/25000 [07:07<00:00, 58.48it/s]\n"
     ]
    }
   ],
   "source": [
    "lemmatized = []\n",
    "for doc in tqdm(docs, total=len(train_df), position=0):\n",
    "     lemmatized.append(' '.join(token.lemma_ for token in doc))"
   ]
  },
  {
   "cell_type": "code",
   "execution_count": 12,
   "id": "05696b86",
   "metadata": {},
   "outputs": [],
   "source": [
    "train_df['lemma'] = lemmatized"
   ]
  },
  {
   "cell_type": "code",
   "execution_count": 13,
   "id": "d65f73af",
   "metadata": {},
   "outputs": [
    {
     "name": "stdout",
     "output_type": "stream",
     "text": [
      "Результат с применением лемматизации: 0.86604\n"
     ]
    }
   ],
   "source": [
    "model.fit(train_df['lemma'], train_df['is_positive'])\n",
    "results['lemmatization'] = eval_model(model)\n",
    "print(f'Результат с применением лемматизации: {results[\"lemmatization\"]}')"
   ]
  },
  {
   "cell_type": "markdown",
   "id": "e4a38627",
   "metadata": {},
   "source": [
    "Видно, что результат стал значительно хуже."
   ]
  },
  {
   "cell_type": "markdown",
   "id": "26766cc0",
   "metadata": {},
   "source": [
    "#### Задание 3.\n",
    "Замените все токены, которые принадлежат сущностям на их тег. Проверьте, изменилось ли качество после этого"
   ]
  },
  {
   "cell_type": "code",
   "execution_count": 14,
   "id": "4489ee95",
   "metadata": {},
   "outputs": [],
   "source": [
    "docs = nlp.pipe(train_df['review'])"
   ]
  },
  {
   "cell_type": "code",
   "execution_count": 15,
   "id": "33291582",
   "metadata": {},
   "outputs": [
    {
     "name": "stderr",
     "output_type": "stream",
     "text": [
      "100%|████████████████████████████████████████████████████████████████████████████| 25000/25000 [07:13<00:00, 57.64it/s]\n"
     ]
    }
   ],
   "source": [
    "replaced = []\n",
    "for doc in tqdm(docs, total=len(train_df), position=0):\n",
    "    spam = []\n",
    "    for token in doc:\n",
    "        spam.append(token.ent_type_ if token.ent_type else token.text)\n",
    "    replaced.append(' '.join(spam))"
   ]
  },
  {
   "cell_type": "code",
   "execution_count": 16,
   "id": "e32ad9a1",
   "metadata": {},
   "outputs": [],
   "source": [
    "train_df['replace'] = replaced"
   ]
  },
  {
   "cell_type": "code",
   "execution_count": 17,
   "id": "888893ea",
   "metadata": {},
   "outputs": [
    {
     "name": "stdout",
     "output_type": "stream",
     "text": [
      "Результат с заменой токенов, которые принадлежат сущностям на их тег: 0.90264\n"
     ]
    }
   ],
   "source": [
    "model.fit(train_df['replace'], train_df['is_positive'])\n",
    "results['replace_entities'] = eval_model(model)\n",
    "print(f'Результат с заменой токенов, которые принадлежат сущностям на их тег: {results[\"replace_entities\"]}')"
   ]
  },
  {
   "cell_type": "markdown",
   "id": "248a7846",
   "metadata": {},
   "source": [
    "Лучше, чем после применения лемматизации, но чуть хуже, чем с минимальной предобработкой и избавлением от мусорных токенов."
   ]
  },
  {
   "cell_type": "markdown",
   "id": "fee40cbb",
   "metadata": {},
   "source": [
    "#### Итог:"
   ]
  },
  {
   "cell_type": "code",
   "execution_count": 18,
   "id": "25450567",
   "metadata": {},
   "outputs": [
    {
     "data": {
      "text/html": [
       "<div>\n",
       "<style scoped>\n",
       "    .dataframe tbody tr th:only-of-type {\n",
       "        vertical-align: middle;\n",
       "    }\n",
       "\n",
       "    .dataframe tbody tr th {\n",
       "        vertical-align: top;\n",
       "    }\n",
       "\n",
       "    .dataframe thead th {\n",
       "        text-align: right;\n",
       "    }\n",
       "</style>\n",
       "<table border=\"1\" class=\"dataframe\">\n",
       "  <thead>\n",
       "    <tr style=\"text-align: right;\">\n",
       "      <th></th>\n",
       "      <th>accuracy</th>\n",
       "    </tr>\n",
       "  </thead>\n",
       "  <tbody>\n",
       "    <tr>\n",
       "      <th>exclude_stopwords</th>\n",
       "      <td>0.90544</td>\n",
       "    </tr>\n",
       "    <tr>\n",
       "      <th>minimum_preprocessing</th>\n",
       "      <td>0.90376</td>\n",
       "    </tr>\n",
       "    <tr>\n",
       "      <th>replace_entities</th>\n",
       "      <td>0.90264</td>\n",
       "    </tr>\n",
       "    <tr>\n",
       "      <th>lemmatization</th>\n",
       "      <td>0.86604</td>\n",
       "    </tr>\n",
       "  </tbody>\n",
       "</table>\n",
       "</div>"
      ],
      "text/plain": [
       "                       accuracy\n",
       "exclude_stopwords       0.90544\n",
       "minimum_preprocessing   0.90376\n",
       "replace_entities        0.90264\n",
       "lemmatization           0.86604"
      ]
     },
     "execution_count": 18,
     "metadata": {},
     "output_type": "execute_result"
    }
   ],
   "source": [
    "pd.DataFrame(results.values(), index=results.keys(), \n",
    "             columns=['accuracy']).sort_values('accuracy', ascending=False)"
   ]
  },
  {
   "cell_type": "code",
   "execution_count": null,
   "id": "6955b850",
   "metadata": {},
   "outputs": [],
   "source": []
  }
 ],
 "metadata": {
  "kernelspec": {
   "display_name": "Python 3 (ipykernel)",
   "language": "python",
   "name": "python3"
  },
  "language_info": {
   "codemirror_mode": {
    "name": "ipython",
    "version": 3
   },
   "file_extension": ".py",
   "mimetype": "text/x-python",
   "name": "python",
   "nbconvert_exporter": "python",
   "pygments_lexer": "ipython3",
   "version": "3.10.9"
  }
 },
 "nbformat": 4,
 "nbformat_minor": 5
}
